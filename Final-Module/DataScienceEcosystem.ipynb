{
 "cells": [
  {
   "cell_type": "markdown",
   "id": "8fc3a07e-53c0-4ff4-962b-b2146111c1e1",
   "metadata": {},
   "source": [
    "# Data Science Tools and Ecosystem"
   ]
  },
  {
   "cell_type": "markdown",
   "id": "cf40020e-1986-401c-9615-72f0896368e7",
   "metadata": {},
   "source": [
    "In this notebook, Data Science Tools and Ecosystem are summarized."
   ]
  },
  {
   "cell_type": "markdown",
   "id": "2f22e2aa-18dd-4b72-b82e-5bcefbeaac52",
   "metadata": {},
   "source": [
    "Some of the key takeaways from the course:\n",
    "\n",
    "**Objectives:**\n",
    "\n",
    "- To list down most popular Languages in Data Science\n",
    "- To list most commonly used libraries by Data Scientist\n",
    "- Most Important Data Science tools to begin with\n",
    "- Use of Data Science tools with basic airthmetic examples"
   ]
  },
  {
   "cell_type": "markdown",
   "id": "b89a783c-ca26-49d6-9136-a5bfcf37cf72",
   "metadata": {},
   "source": [
    "Some of the popular languages that Data Scientists use are:\n",
    "1. R\n",
    "2. Python\n",
    "3. SQL\n",
    "4. Java"
   ]
  },
  {
   "cell_type": "markdown",
   "id": "450a794f-88a9-49f1-873d-45e9f1545579",
   "metadata": {},
   "source": [
    "Some of the commonly used libraries used by Data Scientists include:\n",
    "\n",
    "1. Pandas\n",
    "2. Matplotlib\n",
    "3. TensorFlow\n",
    "4. SciPy\n",
    "5. PyTorch"
   ]
  },
  {
   "cell_type": "markdown",
   "id": "1ca528a8-77e5-4621-8365-225cd4918bc4",
   "metadata": {},
   "source": [
    "| Data Science Tools |\n",
    "|--------------------|\n",
    "|R Studio|\n",
    "|JuPyter Notebook|\n",
    "|TensorFlow|"
   ]
  },
  {
   "cell_type": "markdown",
   "id": "50d80fd7-5701-4680-b713-af8679092f27",
   "metadata": {},
   "source": [
    "### Below are a few examples of evaluating arithmetic expressions in Python. "
   ]
  },
  {
   "cell_type": "code",
   "execution_count": 2,
   "id": "757b8b34-d4a0-4b43-85df-6a94496ef880",
   "metadata": {
    "tags": []
   },
   "outputs": [
    {
     "data": {
      "text/plain": [
       "17"
      ]
     },
     "execution_count": 2,
     "metadata": {},
     "output_type": "execute_result"
    }
   ],
   "source": [
    "# This a simple arithmetic expression to mutiply then add integers\n",
    "(3*4)+5"
   ]
  },
  {
   "cell_type": "code",
   "execution_count": 3,
   "id": "f9fb15db-ff84-410e-88e3-f3fcf3b5eb62",
   "metadata": {
    "tags": []
   },
   "outputs": [
    {
     "data": {
      "text/plain": [
       "3.3333333333333335"
      ]
     },
     "execution_count": 3,
     "metadata": {},
     "output_type": "execute_result"
    }
   ],
   "source": [
    "# This will convert 200 minutes to hours by diving by 60\n",
    "200/60"
   ]
  },
  {
   "cell_type": "markdown",
   "id": "fccc35e6-95ce-47ab-941e-9f866f51c363",
   "metadata": {},
   "source": [
    "## Author\n",
    "\n",
    "Maryam Naim"
   ]
  }
 ],
 "metadata": {
  "kernelspec": {
   "display_name": "Python 3 (ipykernel)",
   "language": "python",
   "name": "python3"
  },
  "language_info": {
   "codemirror_mode": {
    "name": "ipython",
    "version": 3
   },
   "file_extension": ".py",
   "mimetype": "text/x-python",
   "name": "python",
   "nbconvert_exporter": "python",
   "pygments_lexer": "ipython3",
   "version": "3.11.4"
  }
 },
 "nbformat": 4,
 "nbformat_minor": 5
}
